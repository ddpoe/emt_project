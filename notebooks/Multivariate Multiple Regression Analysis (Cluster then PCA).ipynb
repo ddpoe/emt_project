{
 "cells": [
  {
   "cell_type": "code",
   "execution_count": 1,
   "metadata": {},
   "outputs": [
    {
     "name": "stderr",
     "output_type": "stream",
     "text": [
      "/home/dap182/anaconda3/envs/kb/lib/python3.7/site-packages/anndata/_core/anndata.py:21: FutureWarning: pandas.core.index is deprecated and will be removed in a future version.  The public classes are available in the top-level namespace.\n",
      "  from pandas.core.index import RangeIndex\n"
     ]
    }
   ],
   "source": [
    "import dynamo as dyn \n",
    "import scvelo as scv\n",
    "import numpy as np \n",
    "from scipy.spatial.distance import euclidean \n",
    "from scipy.spatial.distance import cdist\n",
    "from sklearn.metrics.pairwise import euclidean_distances\n",
    "from sklearn.model_selection import train_test_split\n",
    "from scipy.spatial import distance_matrix\n",
    "from collections import Counter\n",
    "import re\n",
    "from sklearn.decomposition import PCA\n",
    "from sklearn import metrics\n",
    "import pandas as pd\n",
    "import scvelo as scv\n",
    "from kneed import KneeLocator\n",
    "import matplotlib.pyplot as plt\n",
    "%matplotlib inline\n",
    "import dynamo as dyn\n",
    "from scipy import interpolate\n",
    "from sklearn.cluster import KMeans\n",
    "from sklearn.linear_model import LinearRegression\n",
    "from scipy.stats import describe"
   ]
  },
  {
   "cell_type": "code",
   "execution_count": 2,
   "metadata": {},
   "outputs": [
    {
     "data": {
      "text/plain": [
       "AnnData object with n_obs × n_vars = 3567 × 33694 \n",
       "    obs: 'Clusters', '_X', '_Y', 'batch'\n",
       "    var: 'Accession', 'Chromosome', 'End', 'Start', 'Strand'\n",
       "    layers: 'matrix', 'ambiguous', 'spliced', 'unspliced'"
      ]
     },
     "execution_count": 2,
     "metadata": {},
     "output_type": "execute_result"
    }
   ],
   "source": [
    "adata=dyn.read_loom('data/a549_tgfb1.loom')\n",
    "meta=pd.read_csv('data/a549_tgfb1_meta.csv')\n",
    "adata"
   ]
  },
  {
   "cell_type": "code",
   "execution_count": 3,
   "metadata": {},
   "outputs": [
    {
     "name": "stdout",
     "output_type": "stream",
     "text": [
      "Filtered out 28177 genes that are detected 20 counts (shared).\n",
      "Normalized count data: X, spliced, unspliced.\n",
      "Logarithmized X.\n",
      "computing neighbors\n",
      "    finished (0:00:03) --> added \n",
      "    'distances' and 'connectivities', weighted adjacency matrices (adata.obsp)\n",
      "computing moments based on connectivities\n",
      "    finished (0:00:00) --> added \n",
      "    'Ms' and 'Mu', moments of spliced/unspliced abundances (adata.layers)\n",
      "computing velocities\n",
      "    finished (0:00:00) --> added \n",
      "    'velocity', velocity vectors for each individual cell (adata.layers)\n",
      "computing velocity graph\n",
      "    finished (0:00:04) --> added \n",
      "    'velocity_graph', sparse matrix with cosine correlations (adata.uns)\n"
     ]
    }
   ],
   "source": [
    "scv.pp.filter_and_normalize(adata, n_top_genes=2000,min_shared_counts=20)\n",
    "scv.pp.moments(adata)\n",
    "scv.tl.velocity(adata)\n",
    "scv.tl.velocity_graph(adata)"
   ]
  },
  {
   "cell_type": "code",
   "execution_count": 4,
   "metadata": {},
   "outputs": [],
   "source": [
    "#dyn.pp.recipe_monocle(adata, n_top_genes=2000,keep_filtered_genes=True)\n",
    "#dyn.tl.dynamics(adata, mode='moment')\n",
    "#dyn.tl.reduceDimension(adata)\n",
    "#dyn.tl.cell_velocities(adata)"
   ]
  },
  {
   "cell_type": "code",
   "execution_count": 5,
   "metadata": {},
   "outputs": [
    {
     "data": {
      "text/plain": [
       "AnnData object with n_obs × n_vars = 3567 × 1999 \n",
       "    obs: 'Clusters', '_X', '_Y', 'batch', 'initial_size_unspliced', 'initial_size_spliced', 'initial_size', 'n_counts', 'velocity_self_transition'\n",
       "    var: 'Accession', 'Chromosome', 'End', 'Start', 'Strand', 'gene_count_corr', 'means', 'dispersions', 'dispersions_norm', 'velocity_gamma', 'velocity_r2', 'velocity_genes'\n",
       "    uns: 'pca', 'neighbors', 'velocity_params', 'velocity_graph', 'velocity_graph_neg'\n",
       "    obsm: 'X_pca'\n",
       "    varm: 'PCs'\n",
       "    layers: 'matrix', 'ambiguous', 'spliced', 'unspliced', 'Ms', 'Mu', 'velocity', 'variance_velocity'\n",
       "    obsp: 'distances', 'connectivities'"
      ]
     },
     "execution_count": 5,
     "metadata": {},
     "output_type": "execute_result"
    }
   ],
   "source": [
    "adata"
   ]
  },
  {
   "cell_type": "code",
   "execution_count": 6,
   "metadata": {},
   "outputs": [
    {
     "data": {
      "text/plain": [
       "AnnData object with n_obs × n_vars = 3567 × 1999 \n",
       "    obs: 'Clusters', '_X', '_Y', 'batch', 'initial_size_unspliced', 'initial_size_spliced', 'initial_size', 'n_counts', 'velocity_self_transition'\n",
       "    var: 'Accession', 'Chromosome', 'End', 'Start', 'Strand', 'gene_count_corr', 'means', 'dispersions', 'dispersions_norm', 'velocity_gamma', 'velocity_r2', 'velocity_genes'\n",
       "    uns: 'pca', 'neighbors', 'velocity_params', 'velocity_graph', 'velocity_graph_neg'\n",
       "    obsm: 'X_pca', 'treatment'\n",
       "    varm: 'PCs'\n",
       "    layers: 'matrix', 'ambiguous', 'spliced', 'unspliced', 'Ms', 'Mu', 'velocity', 'variance_velocity'\n",
       "    obsp: 'distances', 'connectivities'"
      ]
     },
     "execution_count": 6,
     "metadata": {},
     "output_type": "execute_result"
    }
   ],
   "source": [
    "CellIDs=np.array(meta[\"Unnamed: 0\"])+'x'\n",
    "for ID in range(len(CellIDs)):\n",
    "    #This is needed to make the cell ids have the same syntax as the loom files \n",
    "    CellIDs[ID]=re.sub('x',\"x-\",CellIDs[ID],count=1)\n",
    "    CellIDs[ID]=re.sub('_',\":\",CellIDs[ID])\n",
    "\n",
    "meta['Unnamed: 0']=CellIDs\n",
    "\n",
    "cells=meta['Unnamed: 0'].to_numpy()\n",
    "\n",
    "treatment=np.array([[meta['Time'][np.squeeze(np.argwhere(cells==cell))]][0] for cell in adata.obs_names])\n",
    "\n",
    "adata.obsm['treatment']=treatment\n",
    "\n",
    "adata"
   ]
  },
  {
   "cell_type": "code",
   "execution_count": 7,
   "metadata": {},
   "outputs": [
    {
     "data": {
      "text/plain": [
       "View of AnnData object with n_obs × n_vars = 577 × 1999 \n",
       "    obs: 'Clusters', '_X', '_Y', 'batch', 'initial_size_unspliced', 'initial_size_spliced', 'initial_size', 'n_counts', 'velocity_self_transition'\n",
       "    var: 'Accession', 'Chromosome', 'End', 'Start', 'Strand', 'gene_count_corr', 'means', 'dispersions', 'dispersions_norm', 'velocity_gamma', 'velocity_r2', 'velocity_genes'\n",
       "    uns: 'pca', 'neighbors', 'velocity_params', 'velocity_graph', 'velocity_graph_neg'\n",
       "    obsm: 'X_pca', 'treatment'\n",
       "    varm: 'PCs'\n",
       "    layers: 'matrix', 'ambiguous', 'spliced', 'unspliced', 'Ms', 'Mu', 'velocity', 'variance_velocity'\n",
       "    obsp: 'distances', 'connectivities'"
      ]
     },
     "execution_count": 7,
     "metadata": {},
     "output_type": "execute_result"
    }
   ],
   "source": [
    "#emt=['8h','1d','3d','7d']\n",
    "#stable_emt=['0d','8h','1d','3d','7d']\n",
    "stable=['0d']\n",
    "\n",
    "#treatment=np.isin(adata.obsm['treatment'],emt)\n",
    "#emt_idx=np.squeeze(np.argwhere(treatment==True))\n",
    "\n",
    "stable=np.isin(adata.obsm['treatment'],stable)\n",
    "stable_idx=np.squeeze(np.argwhere(stable==True))\n",
    "\n",
    "adata=adata[stable_idx,:]\n",
    "adata"
   ]
  },
  {
   "cell_type": "code",
   "execution_count": 8,
   "metadata": {},
   "outputs": [
    {
     "name": "stdout",
     "output_type": "stream",
     "text": [
      "5\n",
      "10\n",
      "15\n",
      "20\n",
      "25\n",
      "30\n",
      "35\n",
      "40\n",
      "45\n"
     ]
    }
   ],
   "source": [
    "X=adata.X.todense()\n",
    "\n",
    "distortions = [] \n",
    "inertias = [] \n",
    "mapping1 = {} \n",
    "mapping2 = {} \n",
    "K = range(1,50) \n",
    "  \n",
    "for k in K: \n",
    "    if k%5==0:\n",
    "        print(k)\n",
    "    #Building and fitting the model \n",
    "    kmeanModel = KMeans(n_clusters=k,random_state=0).fit(X) \n",
    "    kmeanModel.fit(X)     \n",
    "        \n",
    "    distortions.append(sum(np.min(cdist(X, kmeanModel.cluster_centers_, \n",
    "                      'euclidean'),axis=1)) / X.shape[0]) \n",
    "    inertias.append(kmeanModel.inertia_) \n",
    "\n",
    "    mapping1[k] = sum(np.min(cdist(X, kmeanModel.cluster_centers_, \n",
    "                 'euclidean'),axis=1)) / X.shape[0] \n",
    "    mapping2[k] = kmeanModel.inertia_ \n"
   ]
  },
  {
   "cell_type": "code",
   "execution_count": 9,
   "metadata": {},
   "outputs": [
    {
     "name": "stdout",
     "output_type": "stream",
     "text": [
      "16\n"
     ]
    },
    {
     "data": {
      "image/png": "[encoded data removed]",
      "text/plain": [
       "<Figure size 432x288 with 1 Axes>"
      ]
     },
     "metadata": {
      "needs_background": "light"
     },
     "output_type": "display_data"
    }
   ],
   "source": [
    "kn = KneeLocator(K, distortions, curve='convex', direction='decreasing')\n",
    "print(kn.knee) \n",
    "\n",
    "plt.plot(K, distortions, 'bx-') \n",
    "plt.vlines(kn.knee, plt.ylim()[0], plt.ylim()[1], linestyles='dashed')\n",
    "plt.xlabel('Values of K') \n",
    "plt.ylabel('Distortion') \n",
    "plt.title('The Elbow Method using Distortion') \n",
    "#plt.xlim([0,20])\n",
    "plt.show() "
   ]
  },
  {
   "cell_type": "code",
   "execution_count": 10,
   "metadata": {},
   "outputs": [],
   "source": [
    "#knee=kn.knee\n",
    "X=adata.X.todense()\n",
    "\n",
    "knee=4\n",
    "\n",
    "kmeans = KMeans(n_clusters=knee,random_state=0).fit(X) "
   ]
  },
  {
   "cell_type": "code",
   "execution_count": 13,
   "metadata": {},
   "outputs": [
    {
     "name": "stdout",
     "output_type": "stream",
     "text": [
      "variance explained using 10  PC's in count matrix is 0.23561572\n",
      "cluster members: 105\n",
      "DescribeResult(nobs=11, minmax=(0.09357872, 2.0680392), mean=0.81978583, variance=0.41628784, skewness=0.6263692378997803, kurtosis=-0.8438991700935499)\n",
      "\n",
      "variance explained using 17  PC's in count matrix is 0.24887443\n",
      "cluster members: 168\n",
      "DescribeResult(nobs=17, minmax=(0.084865816, 6.905141), mean=1.6777047, variance=2.826258, skewness=1.8399877548217773, kurtosis=3.5159338363719996)\n",
      "\n",
      "variance explained using 17  PC's in count matrix is 0.22225398\n",
      "cluster members: 174\n",
      "DescribeResult(nobs=18, minmax=(0.07839513, 5.526488), mean=1.3260294, variance=2.1121216, skewness=1.685229778289795, kurtosis=2.148592321218038)\n",
      "\n",
      "variance explained using 13  PC's in count matrix is 0.22714688\n",
      "cluster members: 130\n",
      "DescribeResult(nobs=13, minmax=(0.23564029, 1.9450663), mean=0.7505106, variance=0.20382535, skewness=1.4574158191680908, kurtosis=1.8003879327125976)\n",
      "\n"
     ]
    }
   ],
   "source": [
    "cluster_centers=kmeans.cluster_centers_\n",
    "\n",
    "labels=kmeans.labels_\n",
    "\n",
    "for label in set(labels):\n",
    "    \n",
    "    count_matrix=adata.X.todense()\n",
    "    velocity_matrix=adata.layers['velocity']\n",
    "\n",
    "    boolean_list=np.argwhere(labels==label).squeeze()\n",
    "\n",
    "    count_cluster_members=count_matrix[boolean_list]\n",
    "    velocity_cluster_members=velocity_matrix[boolean_list]\n",
    "    \n",
    "    num_members=count_cluster_members.shape[0]\n",
    "    PCs=round(num_members/10)\n",
    "\n",
    "    pca_model=PCA(n_components=PCs,random_state=0).fit(count_cluster_members)\n",
    "    \n",
    "    count_pcs=pca_model.transform(count_cluster_members)\n",
    "    velocity_pcs=pca_model.transform(velocity_cluster_members)\n",
    "    \n",
    "    print('variance explained using', PCs,' PC\\'s in count matrix is',np.sum(pca_model.explained_variance_ratio_))\n",
    "    print('cluster members:',count_cluster_members.shape[0])\n",
    "    \n",
    "    count_matrix_train,count_matrix_test,velocities_train,velocities_test=train_test_split(\n",
    "                    count_pcs,velocity_pcs,test_size=0.10,random_state=0)\n",
    "    \n",
    "    model=LinearRegression().fit(count_matrix_train,velocities_train)\n",
    "    predicted_velocities = model.predict(count_matrix_test)\n",
    "    \n",
    "    diff = predicted_velocities - velocities_test\n",
    "    diff = np.sum(diff**2, axis=-1)\n",
    "    \n",
    "    #dyn.tl.VectorField(adata[boolean_list])\n",
    "    #dyn.pl.topography(adata)\n",
    "    print(describe(diff))\n",
    "    print ()"
   ]
  },
  {
   "cell_type": "code",
   "execution_count": null,
   "metadata": {},
   "outputs": [],
   "source": []
  }
 ],
 "metadata": {
  "kernelspec": {
   "display_name": "Python 3",
   "language": "python",
   "name": "python3"
  },
  "language_info": {
   "codemirror_mode": {
    "name": "ipython",
    "version": 3
   },
   "file_extension": ".py",
   "mimetype": "text/x-python",
   "name": "python",
   "nbconvert_exporter": "python",
   "pygments_lexer": "ipython3",
   "version": "3.7.6"
  }
 },
 "nbformat": 4,
 "nbformat_minor": 4
}
