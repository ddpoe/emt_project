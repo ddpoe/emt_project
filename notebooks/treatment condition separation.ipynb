{
 "cells": [
  {
   "cell_type": "code",
   "execution_count": 2,
   "metadata": {},
   "outputs": [],
   "source": [
    "import matplotlib.pyplot as plt \n",
    "import matplotlib.patches as mpatches\n",
    "import dynamo as dyn\n",
    "import numpy as np\n",
    "import pandas as pd\n",
    "from anndata import AnnData"
   ]
  },
  {
   "cell_type": "code",
   "execution_count": 3,
   "metadata": {},
   "outputs": [],
   "source": [
    "adata=dyn.read_h5ad('a549_tgfb1_emt_genes.h5ad')"
   ]
  },
  {
   "cell_type": "code",
   "execution_count": 4,
   "metadata": {},
   "outputs": [],
   "source": [
    "emt=['8h','1d','3d','7d']\n",
    "met=['8h_rm',\"1d_rm\",'3d_rm']\n",
    "stable_emt=['0d','8h','1d','3d','7d']\n",
    "\n",
    "no_treatment_idx=np.squeeze(np.argwhere(adata.obsm['treatment']=='0d'))\n",
    "\n",
    "treatment=np.isin(adata.obsm['treatment'],emt)\n",
    "emt_idx=np.squeeze(np.argwhere(treatment==True))\n",
    "\n",
    "reverse_treatment=np.isin(adata.obsm['treatment'],met)\n",
    "met_idx=np.squeeze(np.argwhere(reverse_treatment==True))\n",
    "\n",
    "stable_emt=np.isin(adata.obsm['treatment'],stable_emt)\n",
    "stable_emt_idx=np.squeeze(np.argwhere(stable_emt==True))"
   ]
  },
  {
   "cell_type": "code",
   "execution_count": 5,
   "metadata": {},
   "outputs": [],
   "source": [
    "stable=adata[no_treatment_idx,:]\n",
    "AnnData.write_h5ad(stable,'a549_tgfb1_stable.h5ad')"
   ]
  },
  {
   "cell_type": "code",
   "execution_count": 6,
   "metadata": {},
   "outputs": [],
   "source": [
    "emt=adata[emt_idx,:]\n",
    "AnnData.write_h5ad(emt,'a549_tgfb1_emt.h5ad')"
   ]
  },
  {
   "cell_type": "code",
   "execution_count": 7,
   "metadata": {},
   "outputs": [],
   "source": [
    "met=adata[met_idx,:]\n",
    "AnnData.write_h5ad(met,'a549_tgfb1_met.h5ad')"
   ]
  },
  {
   "cell_type": "code",
   "execution_count": 8,
   "metadata": {},
   "outputs": [],
   "source": [
    "stable_emt=adata[stable_emt_idx,:]\n",
    "AnnData.write_h5ad(stable_emt,'a549_tgfb1_stable_emt.h5ad')"
   ]
  },
  {
   "cell_type": "code",
   "execution_count": 9,
   "metadata": {},
   "outputs": [
    {
     "data": {
      "text/plain": [
       "View of AnnData object with n_obs × n_vars = 3132 × 308 \n",
       "    obs: 'Clusters', '_X', '_Y', 'batch'\n",
       "    var: 'Accession', 'Chromosome', 'End', 'Start', 'Strand'\n",
       "    obsm: 'treatment'\n",
       "    layers: 'ambiguous', 'matrix', 'spliced', 'unspliced'"
      ]
     },
     "execution_count": 9,
     "metadata": {},
     "output_type": "execute_result"
    }
   ],
   "source": [
    "stable_emt"
   ]
  },
  {
   "cell_type": "code",
   "execution_count": 10,
   "metadata": {},
   "outputs": [
    {
     "data": {
      "text/plain": [
       "View of AnnData object with n_obs × n_vars = 577 × 308 \n",
       "    obs: 'Clusters', '_X', '_Y', 'batch'\n",
       "    var: 'Accession', 'Chromosome', 'End', 'Start', 'Strand'\n",
       "    obsm: 'treatment'\n",
       "    layers: 'ambiguous', 'matrix', 'spliced', 'unspliced'"
      ]
     },
     "execution_count": 10,
     "metadata": {},
     "output_type": "execute_result"
    }
   ],
   "source": [
    "stable"
   ]
  },
  {
   "cell_type": "code",
   "execution_count": 11,
   "metadata": {},
   "outputs": [
    {
     "data": {
      "text/plain": [
       "View of AnnData object with n_obs × n_vars = 435 × 308 \n",
       "    obs: 'Clusters', '_X', '_Y', 'batch'\n",
       "    var: 'Accession', 'Chromosome', 'End', 'Start', 'Strand'\n",
       "    obsm: 'treatment'\n",
       "    layers: 'ambiguous', 'matrix', 'spliced', 'unspliced'"
      ]
     },
     "execution_count": 11,
     "metadata": {},
     "output_type": "execute_result"
    }
   ],
   "source": [
    "met"
   ]
  },
  {
   "cell_type": "code",
   "execution_count": null,
   "metadata": {},
   "outputs": [],
   "source": []
  }
 ],
 "metadata": {
  "kernelspec": {
   "display_name": "Python 3",
   "language": "python",
   "name": "python3"
  },
  "language_info": {
   "codemirror_mode": {
    "name": "ipython",
    "version": 3
   },
   "file_extension": ".py",
   "mimetype": "text/x-python",
   "name": "python",
   "nbconvert_exporter": "python",
   "pygments_lexer": "ipython3",
   "version": "3.7.6"
  }
 },
 "nbformat": 4,
 "nbformat_minor": 4
}
