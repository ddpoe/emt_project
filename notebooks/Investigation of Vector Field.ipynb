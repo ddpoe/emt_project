{
 "cells": [
  {
   "cell_type": "code",
   "execution_count": null,
   "metadata": {},
   "outputs": [],
   "source": [
    "import re\n",
    "import dynamo as dyn\n",
    "import numpy as np \n",
    "import pandas as pd\n",
    "from scipy.spatial.distance import euclidean \n",
    "import matplotlib.pyplot as plt\n",
    "%matplotlib inline\n",
    "import inspect"
   ]
  },
  {
   "cell_type": "code",
   "execution_count": null,
   "metadata": {},
   "outputs": [],
   "source": [
    "adata=dyn.read_h5ad('../data/a549_tgfb1.h5ad')\n",
    "meta_path = '../data/a549_tgfb1_meta.csv'\n",
    "meta = pd.read_csv(meta_path)\n",
    "adata"
   ]
  },
  {
   "cell_type": "code",
   "execution_count": null,
   "metadata": {},
   "outputs": [],
   "source": [
    "cc_gene_list=np.loadtxt('../gene_lists/cc_gene_list.txt',dtype=str)\n",
    "emt_gene_list=np.loadtxt('../gene_lists/emt_genes_weikang.txt',dtype=str)"
   ]
  },
  {
   "cell_type": "code",
   "execution_count": null,
   "metadata": {},
   "outputs": [],
   "source": [
    "CellIDs=np.array(meta[\"Unnamed: 0\"])+'x'\n",
    "for ID in range(len(CellIDs)):\n",
    "    #This is needed to make the cell ids have the same syntax as the loom files \n",
    "    CellIDs[ID]=re.sub('x',\"x-\",CellIDs[ID],count=1)\n",
    "    CellIDs[ID]=re.sub('_',\":\",CellIDs[ID])\n",
    "\n",
    "meta['Unnamed: 0']=CellIDs\n",
    "\n",
    "cells=meta['Unnamed: 0'].to_numpy()\n",
    "\n",
    "treatment=np.array([[meta['Time'][np.squeeze(np.argwhere(cells==cell))]][0] for cell in adata.obs_names])\n",
    "\n",
    "adata.obsm['treatment']=treatment\n",
    "adata"
   ]
  },
  {
   "cell_type": "code",
   "execution_count": null,
   "metadata": {},
   "outputs": [],
   "source": [
    "stable=['0d']\n",
    "\n",
    "stable=np.isin(adata.obsm['treatment'],stable)\n",
    "stable_idx=np.squeeze(np.argwhere(stable==True))\n",
    "\n",
    "adata=adata[stable_idx,:]\n",
    "adata"
   ]
  },
  {
   "cell_type": "code",
   "execution_count": null,
   "metadata": {},
   "outputs": [],
   "source": [
    "dyn.pp.recipe_monocle(adata, n_top_genes=2000,keep_filtered_genes=False)\n",
    "dyn.tl.dynamics(adata)\n",
    "dyn.tl.reduceDimension(adata,basis='pca')\n",
    "dyn.tl.cell_velocities(adata,basis='pca')"
   ]
  },
  {
   "cell_type": "code",
   "execution_count": null,
   "metadata": {},
   "outputs": [],
   "source": [
    "def plot_V(X, V, dim1=0, dim2=1, create_figure=False, figsize=(6, 6), **kwargs):\n",
    "    if create_figure:\n",
    "        plt.figure(figsize=figsize)\n",
    "    plt.quiver(X[:, dim1], X[:, dim2], V[:, dim1], V[:, dim2])\n",
    "    \n",
    "def plot_X(X, dim1=0, dim2=1, create_figure=False, figsize=(6, 6), **kwargs):\n",
    "    if create_figure:\n",
    "        plt.figure(figsize=figsize)\n",
    "    plt.scatter(X[:, dim1], X[:, dim2], **kwargs)"
   ]
  },
  {
   "cell_type": "code",
   "execution_count": null,
   "metadata": {},
   "outputs": [],
   "source": [
    "vf = dyn.tl.VectorField(adata,basis='pca', dims= 50,return_vf_object=True, pot_curl_div=False)\n",
    "Q = adata.uns['PCs'][:, :50]\n",
    "vf_raw_lambda =  lambda x: vf.func(x) @ Q.T"
   ]
  },
  {
   "cell_type": "code",
   "execution_count": null,
   "metadata": {},
   "outputs": [],
   "source": [
    "gene1_idx=np.argwhere(adata.var_names=='VIM').squeeze()\n",
    "gene2_idx=np.argwhere(adata.var_names=='FN1').squeeze()\n",
    "\n",
    "vf_raw=vf_raw_lambda(adata.obsm['X_pca'])\n",
    "\n",
    "two_gene_velocities=np.vstack((vf_raw[:,gene1_idx],vf_raw[:,gene2_idx])).T"
   ]
  },
  {
   "cell_type": "code",
   "execution_count": null,
   "metadata": {},
   "outputs": [],
   "source": [
    "X_emb=adata.obsm['X_pca']\n",
    "Uc=two_gene_velocities\n",
    "\n",
    "U_grid, X_grid = dyn.tl.smoothen_drift_on_grid(X_emb[:, :2], Uc[:, :2], 30, k=50, smoothness=0.5)"
   ]
  },
  {
   "cell_type": "code",
   "execution_count": null,
   "metadata": {},
   "outputs": [],
   "source": [
    "plot_X(X_emb, create_figure=True, figsize=(12, 6))\n",
    "plot_V(X_grid, U_grid, facecolor='k')"
   ]
  },
  {
   "cell_type": "code",
   "execution_count": null,
   "metadata": {},
   "outputs": [],
   "source": [
    "centroid=np.mean(adata.obsm['X_pca'][:,:2],axis=0)\n",
    "delta_x=np.array([euclidean(centroid,cell) for cell in adata.obsm['X_pca'][:,:2]])\n",
    "\n",
    "closest_sample_to_centroid=np.argmin(delta_x)\n",
    "\n",
    "cluster_members=delta_x<4.5\n",
    "\n",
    "print(sum(cluster_members))\n",
    "\n",
    "plt.scatter(adata.obsm['X_pca'][:,0],adata.obsm['X_pca'][:,1],c=cluster_members)\n",
    "plt.scatter(centroid[0],centroid[1])"
   ]
  },
  {
   "cell_type": "code",
   "execution_count": null,
   "metadata": {},
   "outputs": [],
   "source": [
    "temp_adata=dyn.read_h5ad('../data/a549_tgfb1.h5ad')\n",
    "meta_path = '../data/a549_tgfb1_meta.csv'\n",
    "meta = pd.read_csv(meta_path)\n",
    "temp_adata"
   ]
  },
  {
   "cell_type": "code",
   "execution_count": null,
   "metadata": {},
   "outputs": [],
   "source": [
    "CellIDs=np.array(meta[\"Unnamed: 0\"])+'x'\n",
    "for ID in range(len(CellIDs)):\n",
    "    #This is needed to make the cell ids have the same syntax as the loom files \n",
    "    CellIDs[ID]=re.sub('x',\"x-\",CellIDs[ID],count=1)\n",
    "    CellIDs[ID]=re.sub('_',\":\",CellIDs[ID])\n",
    "\n",
    "meta['Unnamed: 0']=CellIDs\n",
    "\n",
    "cells=meta['Unnamed: 0'].to_numpy()\n",
    "\n",
    "treatment=np.array([[meta['Time'][np.squeeze(np.argwhere(cells==cell))]][0] for cell in temp_adata.obs_names])\n",
    "\n",
    "temp_adata.obsm['treatment']=treatment\n",
    "temp_adata"
   ]
  },
  {
   "cell_type": "code",
   "execution_count": null,
   "metadata": {},
   "outputs": [],
   "source": [
    "stable=['0d']\n",
    "\n",
    "stable=np.isin(temp_adata.obsm['treatment'],stable)\n",
    "stable_idx=np.squeeze(np.argwhere(stable==True))\n",
    "\n",
    "temp_adata=temp_adata[stable_idx,:]\n",
    "temp_adata"
   ]
  },
  {
   "cell_type": "code",
   "execution_count": null,
   "metadata": {},
   "outputs": [],
   "source": [
    "cluster_adata=temp_adata[cluster_members]\n",
    "cluster_adata"
   ]
  },
  {
   "cell_type": "code",
   "execution_count": null,
   "metadata": {},
   "outputs": [],
   "source": [
    "dyn.pp.recipe_monocle(cluster_adata, n_top_genes=2000,keep_filtered_genes=False)\n",
    "dyn.tl.dynamics(cluster_adata)\n",
    "dyn.tl.reduceDimension(cluster_adata,basis='pca')\n",
    "dyn.tl.cell_velocities(cluster_adata,basis='pca')"
   ]
  },
  {
   "cell_type": "code",
   "execution_count": null,
   "metadata": {},
   "outputs": [],
   "source": [
    "vf = dyn.tl.VectorField(cluster_adata,basis='pca', dims= 50,return_vf_object=True, pot_curl_div=False)\n",
    "Q = cluster_adata.uns['PCs'][:, :50]\n",
    "vf_raw_lambda =  lambda x: vf.func(x) @ Q.T"
   ]
  },
  {
   "cell_type": "code",
   "execution_count": null,
   "metadata": {},
   "outputs": [],
   "source": [
    "gene1_idx=np.argwhere(cluster_adata.var_names=='VIM').squeeze()\n",
    "gene2_idx=np.argwhere(cluster_adata.var_names=='FN1').squeeze()\n",
    "\n",
    "vf_raw=vf_raw_lambda(cluster_adata.obsm['X_pca'])\n",
    "\n",
    "cluster_two_gene_velocities=np.vstack((vf_raw[:,gene1_idx],vf_raw[:,gene2_idx])).T"
   ]
  },
  {
   "cell_type": "code",
   "execution_count": null,
   "metadata": {},
   "outputs": [],
   "source": [
    "X_emb=cluster_adata.obsm['X_pca']\n",
    "Uc=cluster_two_gene_velocities\n",
    "\n",
    "U_grid, X_grid = dyn.tl.smoothen_drift_on_grid(X_emb[:, :2], Uc[:, :2], 30, k=50, smoothness=0.5)"
   ]
  },
  {
   "cell_type": "code",
   "execution_count": null,
   "metadata": {},
   "outputs": [],
   "source": [
    "plot_X(X_emb, create_figure=True, figsize=(12, 6))\n",
    "plot_V(X_grid, U_grid, facecolor='k')\n",
    "plt.scatter(adata.obsm['X_pca'][closest_sample_to_centroid,0],\n",
    "            adata.obsm['X_pca'][closest_sample_to_centroid,1],\n",
    "            label='sample closest to artifical centroid')\n",
    "\n",
    "plt.title('Velocity Arrows from VIM and FN1')\n",
    "plt.legend()"
   ]
  }
 ],
 "metadata": {
  "kernelspec": {
   "display_name": "Python 3",
   "language": "python",
   "name": "python3"
  },
  "language_info": {
   "codemirror_mode": {
    "name": "ipython",
    "version": 3
   },
   "file_extension": ".py",
   "mimetype": "text/x-python",
   "name": "python",
   "nbconvert_exporter": "python",
   "pygments_lexer": "ipython3",
   "version": "3.7.6"
  }
 },
 "nbformat": 4,
 "nbformat_minor": 4
}
